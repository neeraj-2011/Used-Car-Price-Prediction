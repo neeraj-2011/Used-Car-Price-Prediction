{
 "cells": [
  {
   "cell_type": "markdown",
   "id": "3c29f6c0",
   "metadata": {},
   "source": [
    "# Used Car Price Prediction"
   ]
  },
  {
   "cell_type": "code",
   "execution_count": 2,
   "id": "bd1c5528",
   "metadata": {},
   "outputs": [],
   "source": [
    "import numpy as np\n",
    "import pandas as pd\n",
    "import scipy\n",
    "from scipy.stats import zscore\n",
    "import matplotlib.pyplot as plt\n",
    "import sklearn \n",
    "from sklearn.preprocessing import LabelEncoder\n",
    "from sklearn.preprocessing import StandardScaler\n",
    "from sklearn.preprocessing import power_transform\n",
    "from sklearn.preprocessing import MinMaxScaler\n",
    "from sklearn.model_selection import train_test_split\n",
    "from sklearn.linear_model import LinearRegression\n",
    "from sklearn.linear_model import SGDRegressor\n",
    "from sklearn.tree import DecisionTreeRegressor\n",
    "from sklearn.neighbors import KNeighborsRegressor\n",
    "from sklearn.ensemble import RandomForestRegressor\n",
    "from sklearn.svm import SVR\n",
    "from sklearn.metrics import mean_squared_error, mean_absolute_error, r2_score\n",
    "from sklearn.model_selection import cross_val_score as cvs\n",
    "from sklearn.model_selection import GridSearchCV\n",
    "import seaborn as sn\n",
    "import warnings\n",
    "warnings.filterwarnings('ignore')"
   ]
  },
  {
   "cell_type": "markdown",
   "id": "52c29d50",
   "metadata": {},
   "source": [
    "Importing All the necessary libraries."
   ]
  },
  {
   "cell_type": "markdown",
   "id": "7a166318",
   "metadata": {},
   "source": [
    "# Reading and Understanding the Data"
   ]
  },
  {
   "cell_type": "code",
   "execution_count": 3,
   "id": "42b2464c",
   "metadata": {},
   "outputs": [
    {
     "data": {
      "text/html": [
       "<div>\n",
       "<style scoped>\n",
       "    .dataframe tbody tr th:only-of-type {\n",
       "        vertical-align: middle;\n",
       "    }\n",
       "\n",
       "    .dataframe tbody tr th {\n",
       "        vertical-align: top;\n",
       "    }\n",
       "\n",
       "    .dataframe thead th {\n",
       "        text-align: right;\n",
       "    }\n",
       "</style>\n",
       "<table border=\"1\" class=\"dataframe\">\n",
       "  <thead>\n",
       "    <tr style=\"text-align: right;\">\n",
       "      <th></th>\n",
       "      <th>Brand &amp; Model</th>\n",
       "      <th>Varient</th>\n",
       "      <th>Fuel Type</th>\n",
       "      <th>Driven Kilometers</th>\n",
       "      <th>Transmission</th>\n",
       "      <th>Owner</th>\n",
       "      <th>Location</th>\n",
       "      <th>Date of Posting Ad</th>\n",
       "      <th>Price (in ₹)</th>\n",
       "    </tr>\n",
       "  </thead>\n",
       "  <tbody>\n",
       "    <tr>\n",
       "      <th>0</th>\n",
       "      <td>Mahindra Xuv500 (2013)</td>\n",
       "      <td>W8 Dual Tone</td>\n",
       "      <td>DIESEL</td>\n",
       "      <td>58,000 KM</td>\n",
       "      <td>MANUAL</td>\n",
       "      <td>1st Owner</td>\n",
       "      <td>Pitampura, Delhi</td>\n",
       "      <td>01/27/2022</td>\n",
       "      <td>435000</td>\n",
       "    </tr>\n",
       "    <tr>\n",
       "      <th>1</th>\n",
       "      <td>Hyundai Creta (2020)</td>\n",
       "      <td>1.6 SX Option Executive Diesel</td>\n",
       "      <td>DIESEL</td>\n",
       "      <td>43861.0 KM</td>\n",
       "      <td>MANUAL</td>\n",
       "      <td>1st Owner</td>\n",
       "      <td>Ahiritola, Kolkata</td>\n",
       "      <td>01/23/2022</td>\n",
       "      <td>1165101</td>\n",
       "    </tr>\n",
       "    <tr>\n",
       "      <th>2</th>\n",
       "      <td>Hyundai Verna (2019)</td>\n",
       "      <td>VTVT 1.4 EX</td>\n",
       "      <td>PETROL</td>\n",
       "      <td>17,000 KM</td>\n",
       "      <td>MANUAL</td>\n",
       "      <td>2nd Owner</td>\n",
       "      <td>Chelavoor, Pantheeramkavu</td>\n",
       "      <td>01/25/2022</td>\n",
       "      <td>815000</td>\n",
       "    </tr>\n",
       "    <tr>\n",
       "      <th>3</th>\n",
       "      <td>Datsun Redigo (2020)</td>\n",
       "      <td>D</td>\n",
       "      <td>PETROL</td>\n",
       "      <td>10000 KM</td>\n",
       "      <td>MANUAL</td>\n",
       "      <td>1st Owner</td>\n",
       "      <td>Palam, Delhi</td>\n",
       "      <td>01/13/2022</td>\n",
       "      <td>270000</td>\n",
       "    </tr>\n",
       "    <tr>\n",
       "      <th>4</th>\n",
       "      <td>Hyundai I10 (2011)</td>\n",
       "      <td>Sportz 1.1 iRDE2</td>\n",
       "      <td>PETROL</td>\n",
       "      <td>70000 KM</td>\n",
       "      <td>MANUAL</td>\n",
       "      <td>1st Owner</td>\n",
       "      <td>Dwarka Sector 13, Delhi</td>\n",
       "      <td>01/13/2022</td>\n",
       "      <td>185000</td>\n",
       "    </tr>\n",
       "  </tbody>\n",
       "</table>\n",
       "</div>"
      ],
      "text/plain": [
       "            Brand & Model                         Varient Fuel Type  \\\n",
       "0  Mahindra Xuv500 (2013)                    W8 Dual Tone    DIESEL   \n",
       "1    Hyundai Creta (2020)  1.6 SX Option Executive Diesel    DIESEL   \n",
       "2    Hyundai Verna (2019)                     VTVT 1.4 EX    PETROL   \n",
       "3    Datsun Redigo (2020)                               D    PETROL   \n",
       "4      Hyundai I10 (2011)                Sportz 1.1 iRDE2    PETROL   \n",
       "\n",
       "  Driven Kilometers Transmission      Owner                   Location  \\\n",
       "0         58,000 KM       MANUAL  1st Owner           Pitampura, Delhi   \n",
       "1        43861.0 KM       MANUAL  1st Owner         Ahiritola, Kolkata   \n",
       "2         17,000 KM       MANUAL  2nd Owner  Chelavoor, Pantheeramkavu   \n",
       "3          10000 KM       MANUAL  1st Owner               Palam, Delhi   \n",
       "4          70000 KM       MANUAL  1st Owner    Dwarka Sector 13, Delhi   \n",
       "\n",
       "  Date of Posting Ad  Price (in ₹)  \n",
       "0         01/27/2022        435000  \n",
       "1         01/23/2022       1165101  \n",
       "2         01/25/2022        815000  \n",
       "3         01/13/2022        270000  \n",
       "4         01/13/2022        185000  "
      ]
     },
     "execution_count": 3,
     "metadata": {},
     "output_type": "execute_result"
    }
   ],
   "source": [
    "df = pd.read_csv('CarPrice.csv')\n",
    "df.head()"
   ]
  },
  {
   "cell_type": "markdown",
   "id": "c492b673",
   "metadata": {},
   "source": [
    "Here we read the Excel file in jupyter notebook."
   ]
  },
  {
   "cell_type": "code",
   "execution_count": 16,
   "id": "c5e6d338",
   "metadata": {},
   "outputs": [
    {
     "data": {
      "text/html": [
       "<div>\n",
       "<style scoped>\n",
       "    .dataframe tbody tr th:only-of-type {\n",
       "        vertical-align: middle;\n",
       "    }\n",
       "\n",
       "    .dataframe tbody tr th {\n",
       "        vertical-align: top;\n",
       "    }\n",
       "\n",
       "    .dataframe thead th {\n",
       "        text-align: right;\n",
       "    }\n",
       "</style>\n",
       "<table border=\"1\" class=\"dataframe\">\n",
       "  <thead>\n",
       "    <tr style=\"text-align: right;\">\n",
       "      <th></th>\n",
       "      <th>Brand &amp; Model</th>\n",
       "      <th>Varient</th>\n",
       "      <th>Fuel Type</th>\n",
       "      <th>Driven Kilometers</th>\n",
       "      <th>Transmission</th>\n",
       "      <th>Owner</th>\n",
       "      <th>Location</th>\n",
       "      <th>Date of Posting Ad</th>\n",
       "      <th>Price (in ₹)</th>\n",
       "    </tr>\n",
       "  </thead>\n",
       "  <tbody>\n",
       "    <tr>\n",
       "      <th>5045</th>\n",
       "      <td>maruti suzuki 800 (1970)</td>\n",
       "      <td>EX 5 Speed</td>\n",
       "      <td>LPG</td>\n",
       "      <td>500,000 Km</td>\n",
       "      <td>Automatic</td>\n",
       "      <td>1st Owner</td>\n",
       "      <td>Alipur</td>\n",
       "      <td>01/23/2022</td>\n",
       "      <td>50000</td>\n",
       "    </tr>\n",
       "    <tr>\n",
       "      <th>5046</th>\n",
       "      <td>renault duster (2012)</td>\n",
       "      <td>2012-2015 110PS Diesel RxZ</td>\n",
       "      <td>Diesel</td>\n",
       "      <td>111,000 Km</td>\n",
       "      <td>Manual</td>\n",
       "      <td>1st Owner</td>\n",
       "      <td>MDDA Colony Near Kedarpuram, Dehradun</td>\n",
       "      <td>01/23/2022</td>\n",
       "      <td>320000</td>\n",
       "    </tr>\n",
       "    <tr>\n",
       "      <th>5047</th>\n",
       "      <td>hyundai santro (2021)</td>\n",
       "      <td>Sportz AMT</td>\n",
       "      <td>Petrol</td>\n",
       "      <td>5,500 Km</td>\n",
       "      <td>Automatic</td>\n",
       "      <td>1st Owner</td>\n",
       "      <td>Pragati Nagar, Ahmedabad</td>\n",
       "      <td>01/23/2022</td>\n",
       "      <td>599000</td>\n",
       "    </tr>\n",
       "    <tr>\n",
       "      <th>5048</th>\n",
       "      <td>hyundai verna (2013)</td>\n",
       "      <td>VTVT 1.6 EX</td>\n",
       "      <td>Petrol</td>\n",
       "      <td>61231.0 Km</td>\n",
       "      <td>Manual</td>\n",
       "      <td>1st Owner</td>\n",
       "      <td>Malad West, Mumbai</td>\n",
       "      <td>01/27/2022</td>\n",
       "      <td>395000</td>\n",
       "    </tr>\n",
       "    <tr>\n",
       "      <th>5049</th>\n",
       "      <td>maruti suzuki swift dzire (2019)</td>\n",
       "      <td>VXI</td>\n",
       "      <td>Diesel</td>\n",
       "      <td>58,000 Km</td>\n",
       "      <td>Manual</td>\n",
       "      <td>1st Owner</td>\n",
       "      <td>Kukatpally, Hyderabad</td>\n",
       "      <td>01/23/2022</td>\n",
       "      <td>580000</td>\n",
       "    </tr>\n",
       "  </tbody>\n",
       "</table>\n",
       "</div>"
      ],
      "text/plain": [
       "                         Brand & Model                     Varient Fuel Type  \\\n",
       "5045          maruti suzuki 800 (1970)                  EX 5 Speed       LPG   \n",
       "5046             renault duster (2012)  2012-2015 110PS Diesel RxZ    Diesel   \n",
       "5047             hyundai santro (2021)                  Sportz AMT    Petrol   \n",
       "5048              hyundai verna (2013)                 VTVT 1.6 EX    Petrol   \n",
       "5049  maruti suzuki swift dzire (2019)                         VXI    Diesel   \n",
       "\n",
       "     Driven Kilometers Transmission      Owner  \\\n",
       "5045        500,000 Km    Automatic  1st Owner   \n",
       "5046        111,000 Km       Manual  1st Owner   \n",
       "5047          5,500 Km    Automatic  1st Owner   \n",
       "5048        61231.0 Km       Manual  1st Owner   \n",
       "5049         58,000 Km       Manual  1st Owner   \n",
       "\n",
       "                                   Location Date of Posting Ad  Price (in ₹)  \n",
       "5045                                 Alipur         01/23/2022         50000  \n",
       "5046  MDDA Colony Near Kedarpuram, Dehradun         01/23/2022        320000  \n",
       "5047               Pragati Nagar, Ahmedabad         01/23/2022        599000  \n",
       "5048                     Malad West, Mumbai         01/27/2022        395000  \n",
       "5049                  Kukatpally, Hyderabad         01/23/2022        580000  "
      ]
     },
     "execution_count": 16,
     "metadata": {},
     "output_type": "execute_result"
    }
   ],
   "source": [
    "df = pd.DataFrame(data=df)\n",
    "df.tail()"
   ]
  },
  {
   "cell_type": "markdown",
   "id": "7d84ab72",
   "metadata": {},
   "source": [
    "Here we are loading the dataset into DataFrame."
   ]
  },
  {
   "cell_type": "markdown",
   "id": "96441ca1",
   "metadata": {},
   "source": [
    "# Data Inspection"
   ]
  },
  {
   "cell_type": "code",
   "execution_count": 17,
   "id": "5b39d8cf",
   "metadata": {},
   "outputs": [
    {
     "data": {
      "text/plain": [
       "(5050, 9)"
      ]
     },
     "execution_count": 17,
     "metadata": {},
     "output_type": "execute_result"
    }
   ],
   "source": [
    "df.shape"
   ]
  },
  {
   "cell_type": "markdown",
   "id": "ee06cb98",
   "metadata": {},
   "source": [
    "There are 5050 rows and 9 columns in the dataset."
   ]
  },
  {
   "cell_type": "code",
   "execution_count": 18,
   "id": "b0249752",
   "metadata": {},
   "outputs": [
    {
     "data": {
      "text/plain": [
       "Brand & Model         object\n",
       "Varient               object\n",
       "Fuel Type             object\n",
       "Driven Kilometers     object\n",
       "Transmission          object\n",
       "Owner                 object\n",
       "Location              object\n",
       "Date of Posting Ad    object\n",
       "Price (in ₹)           int64\n",
       "dtype: object"
      ]
     },
     "execution_count": 18,
     "metadata": {},
     "output_type": "execute_result"
    }
   ],
   "source": [
    "df.dtypes"
   ]
  },
  {
   "cell_type": "markdown",
   "id": "0c448262",
   "metadata": {},
   "source": [
    "All the columns are of object datatype except the target variable, 'Price (in ₹)' which is of integer data type."
   ]
  },
  {
   "cell_type": "code",
   "execution_count": 19,
   "id": "1c178130",
   "metadata": {},
   "outputs": [
    {
     "name": "stdout",
     "output_type": "stream",
     "text": [
      "<class 'pandas.core.frame.DataFrame'>\n",
      "RangeIndex: 5050 entries, 0 to 5049\n",
      "Data columns (total 9 columns):\n",
      " #   Column              Non-Null Count  Dtype \n",
      "---  ------              --------------  ----- \n",
      " 0   Brand & Model       5050 non-null   object\n",
      " 1   Varient             5011 non-null   object\n",
      " 2   Fuel Type           5050 non-null   object\n",
      " 3   Driven Kilometers   5050 non-null   object\n",
      " 4   Transmission        5050 non-null   object\n",
      " 5   Owner               5050 non-null   object\n",
      " 6   Location            5050 non-null   object\n",
      " 7   Date of Posting Ad  5050 non-null   object\n",
      " 8   Price (in ₹)        5050 non-null   int64 \n",
      "dtypes: int64(1), object(8)\n",
      "memory usage: 355.2+ KB\n"
     ]
    }
   ],
   "source": [
    "df.info()"
   ]
  },
  {
   "cell_type": "markdown",
   "id": "540856c7",
   "metadata": {},
   "source": [
    "There are 9 columns and varient column have null values and all the columns are of object data type except 'Price (in ₹)' which is of integer data type. The total memory usage of this dataset is 355.2 KB."
   ]
  },
  {
   "cell_type": "code",
   "execution_count": 20,
   "id": "03d02085",
   "metadata": {},
   "outputs": [
    {
     "data": {
      "text/plain": [
       "Index(['Brand & Model', 'Varient', 'Fuel Type', 'Driven Kilometers',\n",
       "       'Transmission', 'Owner', 'Location', 'Date of Posting Ad',\n",
       "       'Price (in ₹)'],\n",
       "      dtype='object')"
      ]
     },
     "execution_count": 20,
     "metadata": {},
     "output_type": "execute_result"
    }
   ],
   "source": [
    "df.columns"
   ]
  },
  {
   "cell_type": "markdown",
   "id": "ae68b146",
   "metadata": {},
   "source": [
    "There are 9 columns:\n",
    "1. 'Brand & Model' : It gives us the brand of the car alongwith its model name and manufacturing year\n",
    "2. 'Varient' : It gives us the varient of particular car model\n",
    "3. 'Fuel Type' : It gives us the type of fuel used by the car\n",
    "4. 'Driven Kilometers' : It gives us the total distance in kms covered by car\n",
    "5. 'Transmission' : It tells us whether the gear transmission is Manual or Automatic\n",
    "6. 'Owner' : It tells us the total numbers of owners car had previously\n",
    "7. 'Location' : It gives us the locaion of the car\n",
    "8. 'Date of Posting Ad' : It teels us when the advertisement for selling that car was posted online\n",
    "9. 'Price (in ₹)' : It gives us the price of the car.\n",
    "   \n",
    "Here 'Price (in ₹)' is our target variable.        "
   ]
  },
  {
   "cell_type": "markdown",
   "id": "7787f584",
   "metadata": {},
   "source": [
    "# Data Cleaning"
   ]
  },
  {
   "cell_type": "code",
   "execution_count": 21,
   "id": "dc639531",
   "metadata": {},
   "outputs": [
    {
     "data": {
      "text/plain": [
       "Brand & Model          0\n",
       "Varient               39\n",
       "Fuel Type              0\n",
       "Driven Kilometers      0\n",
       "Transmission           0\n",
       "Owner                  0\n",
       "Location               0\n",
       "Date of Posting Ad     0\n",
       "Price (in ₹)           0\n",
       "dtype: int64"
      ]
     },
     "execution_count": 21,
     "metadata": {},
     "output_type": "execute_result"
    }
   ],
   "source": [
    "#Checking for Null values\n",
    "df.isnull().sum()"
   ]
  },
  {
   "cell_type": "markdown",
   "id": "3f939646",
   "metadata": {},
   "source": [
    "There are 39 null values in column 'Varient' and since it is of object type, we will use Mode to fill the rows with null value."
   ]
  },
  {
   "cell_type": "code",
   "execution_count": 22,
   "id": "d3fd32eb",
   "metadata": {},
   "outputs": [
    {
     "data": {
      "text/plain": [
       "<AxesSubplot:>"
      ]
     },
     "execution_count": 22,
     "metadata": {},
     "output_type": "execute_result"
    },
    {
     "data": {
      "image/png": "[encoded data removed]",
      "text/plain": [
       "<Figure size 432x288 with 2 Axes>"
      ]
     },
     "metadata": {
      "needs_background": "light"
     },
     "output_type": "display_data"
    }
   ],
   "source": [
    "sn.heatmap(df.isnull())"
   ]
  },
  {
   "cell_type": "markdown",
   "id": "0d37bd15",
   "metadata": {},
   "source": [
    "This is the visualization of having just a small number null values in the dataset."
   ]
  },
  {
   "cell_type": "code",
   "execution_count": 25,
   "id": "157a3ecc",
   "metadata": {},
   "outputs": [],
   "source": [
    "from sklearn.impute import SimpleImputer\n",
    "imp=SimpleImputer(missing_values=np.nan,strategy='most_frequent')\n",
    "df['Varient']=imp.fit_transform(df['Varient'].values.reshape(-1,1))"
   ]
  },
  {
   "cell_type": "markdown",
   "id": "60649594",
   "metadata": {},
   "source": [
    "Treating the null values with mode using Simple Imputer"
   ]
  },
  {
   "cell_type": "code",
   "execution_count": 26,
   "id": "a416d5e3",
   "metadata": {},
   "outputs": [
    {
     "data": {
      "text/plain": [
       "Brand & Model         0\n",
       "Varient               0\n",
       "Fuel Type             0\n",
       "Driven Kilometers     0\n",
       "Transmission          0\n",
       "Owner                 0\n",
       "Location              0\n",
       "Date of Posting Ad    0\n",
       "Price (in ₹)          0\n",
       "dtype: int64"
      ]
     },
     "execution_count": 26,
     "metadata": {},
     "output_type": "execute_result"
    }
   ],
   "source": [
    "#Checking for Null values\n",
    "df.isnull().sum()"
   ]
  },
  {
   "cell_type": "markdown",
   "id": "600a6489",
   "metadata": {},
   "source": [
    "Now there are no null values in the dataset."
   ]
  },
  {
   "cell_type": "code",
   "execution_count": 12,
   "id": "3cd9a038",
   "metadata": {},
   "outputs": [],
   "source": [
    "#Checking for outliers and Skewness"
   ]
  },
  {
   "cell_type": "markdown",
   "id": "bd4d992e",
   "metadata": {},
   "source": [
    "Since all the variables are of object data type, we will not check for outliers or skewness."
   ]
  },
  {
   "cell_type": "markdown",
   "id": "b86a6cf1",
   "metadata": {},
   "source": [
    "# Exploratory Data Analysis"
   ]
  },
  {
   "cell_type": "code",
   "execution_count": 27,
   "id": "c3b68f34",
   "metadata": {},
   "outputs": [
    {
     "data": {
      "text/plain": [
       "<AxesSubplot:xlabel='Price (in ₹)'>"
      ]
     },
     "execution_count": 27,
     "metadata": {},
     "output_type": "execute_result"
    },
    {
     "data": {
      "image/png": "[encoded data removed]",
      "text/plain": [
       "<Figure size 432x288 with 1 Axes>"
      ]
     },
     "metadata": {
      "needs_background": "light"
     },
     "output_type": "display_data"
    }
   ],
   "source": [
    "sn.boxplot(df['Price (in ₹)'])"
   ]
  },
  {
   "cell_type": "markdown",
   "id": "c235fdf0",
   "metadata": {},
   "source": [
    "There are many outliers but since it's the target variable, hence we will not treat the outliers."
   ]
  },
  {
   "cell_type": "code",
   "execution_count": 14,
   "id": "b96e7fd9",
   "metadata": {},
   "outputs": [
    {
     "data": {
      "text/plain": [
       "<AxesSubplot:xlabel='Price (in ₹)', ylabel='Density'>"
      ]
     },
     "execution_count": 14,
     "metadata": {},
     "output_type": "execute_result"
    },
    {
     "data": {
      "image/png": "[encoded data removed]",
      "text/plain": [
       "<Figure size 432x288 with 1 Axes>"
      ]
     },
     "metadata": {
      "needs_background": "light"
     },
     "output_type": "display_data"
    }
   ],
   "source": [
    "sn.distplot(df['Price (in ₹)'])"
   ]
  },
  {
   "cell_type": "markdown",
   "id": "0261a299",
   "metadata": {},
   "source": [
    "The data is very tightly distributed here and is almost normalized."
   ]
  },
  {
   "cell_type": "code",
   "execution_count": null,
   "id": "b63c6deb",
   "metadata": {},
   "outputs": [],
   "source": [
    "collist=df.columns.values\n",
    "plt.figure(figsize=(20,20))\n",
    "for i in range(0,len(collist)):\n",
    "    plt.subplot(3,3,i+1)\n",
    "    sn.histplot(data=df[collist[i]],color='red').set_xticklabels(labels=df[collist[i]].unique(),rotation=90)\n",
    "    plt.tight_layout() "
   ]
  },
  {
   "cell_type": "markdown",
   "id": "78d46788",
   "metadata": {},
   "source": [
    "~ Brands, Varients, Driven Kilometers & Location have a wide range of values in them. \n",
    "\n",
    "~ Maximum Cars run on either Petrol or diesel. Only few goes for CNG and other fuels.\n",
    "\n",
    "~ Maximum Cars have Manual transnission.\n",
    "\n",
    "~ Maximum cars are being sold by their very 1st Owner.\n",
    "\n",
    "~ We have collected the cars posted online in last one month, from 25th December 2021 to 27th January 2022.\n",
    "\n",
    "~ Almost all the cars have a price rnging in between 270000 to 1165101. "
   ]
  },
  {
   "cell_type": "code",
   "execution_count": null,
   "id": "9b3a8f33",
   "metadata": {},
   "outputs": [],
   "source": [
    "newcollist=['Fuel Type','Transmission','Owner']\n",
    "plt.figure(figsize=(20,20))\n",
    "for i in enumerate(newcollist):\n",
    "    plt.subplot(3,3,i[0]+1)\n",
    "    sn.barplot(data=df,x=i[1],y='Price (in ₹)',color='red')\n",
    "    plt.xticks(rotation=90)\n",
    "    plt.tight_layout()"
   ]
  },
  {
   "cell_type": "markdown",
   "id": "d4f79040",
   "metadata": {},
   "source": [
    "Since Brands, Varients, Driven Kilometers & Location have a wide range of values in them, we will not perform bivariate analysis for them as they will not give us any specific details. Now by plotting graph of Fuel type, Transmission and Owner against Price, we conclude that Car that uses Diesel, have automatic Transmission and Has only 1 owner is more likely to have a high price."
   ]
  },
  {
   "cell_type": "code",
   "execution_count": null,
   "id": "400eebdc",
   "metadata": {},
   "outputs": [],
   "source": [
    "newcollist=['Fuel Type','Transmission','Owner']\n",
    "plt.figure(figsize=(20,20))\n",
    "for i in enumerate(newcollist):\n",
    "    plt.subplot(3,3,i[0]+1)\n",
    "    sn.scatterplot(data=df,x=i[1],y='Price (in ₹)')\n",
    "    plt.xticks(rotation=90)\n",
    "    plt.tight_layout()\n",
    "    "
   ]
  },
  {
   "cell_type": "markdown",
   "id": "eb4286f8",
   "metadata": {},
   "source": [
    "Just like bar graph, we can see that Price range is likely to be high for cars using Diesel as fuel, or having Automatic Transmission or is owned by only 1 Owner."
   ]
  },
  {
   "cell_type": "code",
   "execution_count": 18,
   "id": "4c84e160",
   "metadata": {},
   "outputs": [
    {
     "data": {
      "text/html": [
       "<div>\n",
       "<style scoped>\n",
       "    .dataframe tbody tr th:only-of-type {\n",
       "        vertical-align: middle;\n",
       "    }\n",
       "\n",
       "    .dataframe tbody tr th {\n",
       "        vertical-align: top;\n",
       "    }\n",
       "\n",
       "    .dataframe thead th {\n",
       "        text-align: right;\n",
       "    }\n",
       "</style>\n",
       "<table border=\"1\" class=\"dataframe\">\n",
       "  <thead>\n",
       "    <tr style=\"text-align: right;\">\n",
       "      <th></th>\n",
       "      <th>Brand &amp; Model</th>\n",
       "      <th>Varient</th>\n",
       "      <th>Fuel Type</th>\n",
       "      <th>Driven Kilometers</th>\n",
       "      <th>Transmission</th>\n",
       "      <th>Owner</th>\n",
       "      <th>Location</th>\n",
       "      <th>Date of Posting Ad</th>\n",
       "      <th>Price (in ₹)</th>\n",
       "    </tr>\n",
       "  </thead>\n",
       "  <tbody>\n",
       "    <tr>\n",
       "      <th>0</th>\n",
       "      <td>266</td>\n",
       "      <td>143</td>\n",
       "      <td>3</td>\n",
       "      <td>543</td>\n",
       "      <td>10</td>\n",
       "      <td>1</td>\n",
       "      <td>123</td>\n",
       "      <td>31</td>\n",
       "      <td>435000</td>\n",
       "    </tr>\n",
       "    <tr>\n",
       "      <th>1</th>\n",
       "      <td>243</td>\n",
       "      <td>22</td>\n",
       "      <td>3</td>\n",
       "      <td>419</td>\n",
       "      <td>10</td>\n",
       "      <td>1</td>\n",
       "      <td>2</td>\n",
       "      <td>28</td>\n",
       "      <td>1165101</td>\n",
       "    </tr>\n",
       "    <tr>\n",
       "      <th>2</th>\n",
       "      <td>255</td>\n",
       "      <td>130</td>\n",
       "      <td>6</td>\n",
       "      <td>159</td>\n",
       "      <td>10</td>\n",
       "      <td>2</td>\n",
       "      <td>33</td>\n",
       "      <td>30</td>\n",
       "      <td>815000</td>\n",
       "    </tr>\n",
       "    <tr>\n",
       "      <th>3</th>\n",
       "      <td>226</td>\n",
       "      <td>79</td>\n",
       "      <td>6</td>\n",
       "      <td>80</td>\n",
       "      <td>10</td>\n",
       "      <td>1</td>\n",
       "      <td>115</td>\n",
       "      <td>20</td>\n",
       "      <td>270000</td>\n",
       "    </tr>\n",
       "    <tr>\n",
       "      <th>4</th>\n",
       "      <td>246</td>\n",
       "      <td>121</td>\n",
       "      <td>6</td>\n",
       "      <td>656</td>\n",
       "      <td>10</td>\n",
       "      <td>1</td>\n",
       "      <td>42</td>\n",
       "      <td>20</td>\n",
       "      <td>185000</td>\n",
       "    </tr>\n",
       "    <tr>\n",
       "      <th>...</th>\n",
       "      <td>...</td>\n",
       "      <td>...</td>\n",
       "      <td>...</td>\n",
       "      <td>...</td>\n",
       "      <td>...</td>\n",
       "      <td>...</td>\n",
       "      <td>...</td>\n",
       "      <td>...</td>\n",
       "      <td>...</td>\n",
       "    </tr>\n",
       "    <tr>\n",
       "      <th>5045</th>\n",
       "      <td>358</td>\n",
       "      <td>87</td>\n",
       "      <td>5</td>\n",
       "      <td>484</td>\n",
       "      <td>6</td>\n",
       "      <td>1</td>\n",
       "      <td>6</td>\n",
       "      <td>28</td>\n",
       "      <td>50000</td>\n",
       "    </tr>\n",
       "    <tr>\n",
       "      <th>5046</th>\n",
       "      <td>375</td>\n",
       "      <td>56</td>\n",
       "      <td>4</td>\n",
       "      <td>97</td>\n",
       "      <td>12</td>\n",
       "      <td>1</td>\n",
       "      <td>81</td>\n",
       "      <td>28</td>\n",
       "      <td>320000</td>\n",
       "    </tr>\n",
       "    <tr>\n",
       "      <th>5047</th>\n",
       "      <td>351</td>\n",
       "      <td>122</td>\n",
       "      <td>7</td>\n",
       "      <td>472</td>\n",
       "      <td>6</td>\n",
       "      <td>1</td>\n",
       "      <td>126</td>\n",
       "      <td>28</td>\n",
       "      <td>599000</td>\n",
       "    </tr>\n",
       "    <tr>\n",
       "      <th>5048</th>\n",
       "      <td>353</td>\n",
       "      <td>131</td>\n",
       "      <td>7</td>\n",
       "      <td>586</td>\n",
       "      <td>12</td>\n",
       "      <td>1</td>\n",
       "      <td>87</td>\n",
       "      <td>31</td>\n",
       "      <td>395000</td>\n",
       "    </tr>\n",
       "    <tr>\n",
       "      <th>5049</th>\n",
       "      <td>369</td>\n",
       "      <td>133</td>\n",
       "      <td>4</td>\n",
       "      <td>544</td>\n",
       "      <td>12</td>\n",
       "      <td>1</td>\n",
       "      <td>78</td>\n",
       "      <td>28</td>\n",
       "      <td>580000</td>\n",
       "    </tr>\n",
       "  </tbody>\n",
       "</table>\n",
       "<p>5050 rows × 9 columns</p>\n",
       "</div>"
      ],
      "text/plain": [
       "      Brand & Model  Varient  Fuel Type  Driven Kilometers  Transmission  \\\n",
       "0               266      143          3                543            10   \n",
       "1               243       22          3                419            10   \n",
       "2               255      130          6                159            10   \n",
       "3               226       79          6                 80            10   \n",
       "4               246      121          6                656            10   \n",
       "...             ...      ...        ...                ...           ...   \n",
       "5045            358       87          5                484             6   \n",
       "5046            375       56          4                 97            12   \n",
       "5047            351      122          7                472             6   \n",
       "5048            353      131          7                586            12   \n",
       "5049            369      133          4                544            12   \n",
       "\n",
       "      Owner  Location  Date of Posting Ad  Price (in ₹)  \n",
       "0         1       123                  31        435000  \n",
       "1         1         2                  28       1165101  \n",
       "2         2        33                  30        815000  \n",
       "3         1       115                  20        270000  \n",
       "4         1        42                  20        185000  \n",
       "...     ...       ...                 ...           ...  \n",
       "5045      1         6                  28         50000  \n",
       "5046      1        81                  28        320000  \n",
       "5047      1       126                  28        599000  \n",
       "5048      1        87                  31        395000  \n",
       "5049      1        78                  28        580000  \n",
       "\n",
       "[5050 rows x 9 columns]"
      ]
     },
     "execution_count": 18,
     "metadata": {},
     "output_type": "execute_result"
    }
   ],
   "source": [
    "le = LabelEncoder()\n",
    "for column in df.drop(['Price (in ₹)'],axis=1).columns:\n",
    "    df[column]=le.fit_transform(df[column])\n",
    "df    "
   ]
  },
  {
   "cell_type": "markdown",
   "id": "9c41944a",
   "metadata": {},
   "source": [
    "Transforming the data from object to ordinal type."
   ]
  },
  {
   "cell_type": "markdown",
   "id": "de40c31b",
   "metadata": {},
   "source": [
    "# Multivariate Analysis"
   ]
  },
  {
   "cell_type": "code",
   "execution_count": 19,
   "id": "893cc109",
   "metadata": {},
   "outputs": [
    {
     "data": {
      "image/png": "[encoded data removed]",
      "text/plain": [
       "<Figure size 1008x720 with 2 Axes>"
      ]
     },
     "metadata": {
      "needs_background": "light"
     },
     "output_type": "display_data"
    }
   ],
   "source": [
    "plt.figure(figsize=(14,10))\n",
    "sn.heatmap(round(df.describe()[1:].transpose(),2),lw=2,linecolor='black',annot=True,fmt='f',color='red')\n",
    "plt.xticks(fontsize=18)\n",
    "plt.yticks(fontsize=18)\n",
    "plt.title('Variable Summary')\n",
    "plt.show()"
   ]
  },
  {
   "cell_type": "markdown",
   "id": "341bf7e2",
   "metadata": {},
   "source": [
    "It gives us the statistical summary(which includes mean, median, standard deviation, minimum value, maximum value and quartile values) of all the numerical columns."
   ]
  },
  {
   "cell_type": "code",
   "execution_count": 20,
   "id": "ec3e94ba",
   "metadata": {},
   "outputs": [
    {
     "data": {
      "text/plain": [
       "<AxesSubplot:>"
      ]
     },
     "execution_count": 20,
     "metadata": {},
     "output_type": "execute_result"
    },
    {
     "data": {
      "image/png": "[encoded data removed]",
      "text/plain": [
       "<Figure size 1080x576 with 2 Axes>"
      ]
     },
     "metadata": {
      "needs_background": "light"
     },
     "output_type": "display_data"
    }
   ],
   "source": [
    "plt.figure(figsize=(15,8))\n",
    "sn.heatmap(df.corr(), linewidth=0.1, cmap=\"YlGnBu\", annot = True)"
   ]
  },
  {
   "cell_type": "markdown",
   "id": "9330a0da",
   "metadata": {},
   "source": [
    "There is no multicollinearity in the dataset."
   ]
  },
  {
   "cell_type": "markdown",
   "id": "1a53bdc4",
   "metadata": {},
   "source": [
    "# Model Building"
   ]
  },
  {
   "cell_type": "code",
   "execution_count": 21,
   "id": "e7f8e069",
   "metadata": {},
   "outputs": [],
   "source": [
    "x= df.drop(['Price (in ₹)'],axis=1)\n",
    "y=df['Price (in ₹)']"
   ]
  },
  {
   "cell_type": "markdown",
   "id": "ec6d52e6",
   "metadata": {},
   "source": [
    "Separating feature and target variables into x and y."
   ]
  },
  {
   "cell_type": "code",
   "execution_count": 22,
   "id": "95cfa224",
   "metadata": {},
   "outputs": [],
   "source": [
    "x=power_transform(x,method='yeo-johnson')\n",
    "scale = StandardScaler()\n",
    "x=scale.fit_transform(x)"
   ]
  },
  {
   "cell_type": "markdown",
   "id": "b23105b9",
   "metadata": {},
   "source": [
    "Power transforming and scaling the feaature variables."
   ]
  },
  {
   "cell_type": "code",
   "execution_count": 23,
   "id": "f52c104a",
   "metadata": {},
   "outputs": [
    {
     "name": "stdout",
     "output_type": "stream",
     "text": [
      "SVR Regressor Score: -0.06325370730174851\n",
      "SVR Regressor r2_score: -0.06820672247987791\n",
      "Mean squared error of SVR Regressor: 297284446193.9865\n",
      "Root Mean Square error of SVR Regressor: 545237.9720764012\n"
     ]
    }
   ],
   "source": [
    "xtrain, xtest, ytrain, ytest = train_test_split(x, y, test_size = 0.3, random_state = 45)\n",
    "svr = SVR()\n",
    "svr.fit(xtrain,ytrain)\n",
    "pred_train_svr=svr.predict(xtrain)\n",
    "pred_test_svr=svr.predict(xtest)\n",
    "print('SVR Regressor Score:',svr.score(xtrain,ytrain))\n",
    "print('SVR Regressor r2_score:',r2_score(ytest,pred_test_svr))\n",
    "print(\"Mean squared error of SVR Regressor:\",mean_squared_error(ytest,pred_test_svr))\n",
    "print(\"Root Mean Square error of SVR Regressor:\",np.sqrt(mean_squared_error(ytest,pred_test_svr)))"
   ]
  },
  {
   "cell_type": "markdown",
   "id": "1e706e30",
   "metadata": {},
   "source": [
    "The Accuracy of SVR is in negative which stats that this is not the correct model to apply here."
   ]
  },
  {
   "cell_type": "code",
   "execution_count": 24,
   "id": "9ab00965",
   "metadata": {},
   "outputs": [
    {
     "name": "stdout",
     "output_type": "stream",
     "text": [
      "Linear Regression Score: 0.055020586349048384\n",
      "Linear Regression r2_score: 0.061364713139148486\n",
      "Mean squared error of Linear Regression: 261224410556.7481\n",
      "Root Mean Square error of Linear Regression: 511101.1744818712\n"
     ]
    }
   ],
   "source": [
    "lr= LinearRegression()\n",
    "lr.fit(xtrain,ytrain)\n",
    "lr.coef_\n",
    "pred_train=lr.predict(xtrain)\n",
    "pred_test=lr.predict(xtest)\n",
    "print('Linear Regression Score:',lr.score(xtrain,ytrain))\n",
    "print('Linear Regression r2_score:',r2_score(ytest,pred_test))\n",
    "print(\"Mean squared error of Linear Regression:\",mean_squared_error(ytest,pred_test))\n",
    "print(\"Root Mean Square error of Linear Regression:\",np.sqrt(mean_squared_error(ytest,pred_test)))"
   ]
  },
  {
   "cell_type": "markdown",
   "id": "24deb3c9",
   "metadata": {},
   "source": [
    "The accuracy of Linear Regression is only 6%"
   ]
  },
  {
   "cell_type": "code",
   "execution_count": 25,
   "id": "51e2d50a",
   "metadata": {},
   "outputs": [
    {
     "name": "stdout",
     "output_type": "stream",
     "text": [
      "SGD Regressor Score: 0.05307367896974513\n",
      "SGD Regressor r2_score: 0.06076093246004877\n",
      "Mean squared error of SGD Regressor: 261392444141.47607\n",
      "Root Mean Square error of SGD Regressor: 511265.5319317703\n"
     ]
    }
   ],
   "source": [
    "sgd=SGDRegressor()\n",
    "sgd.fit(xtrain,ytrain)\n",
    "pred_train_sgd=sgd.predict(xtrain)\n",
    "pred_test_sgd=sgd.predict(xtest)\n",
    "print('SGD Regressor Score:',sgd.score(xtrain,ytrain))\n",
    "print('SGD Regressor r2_score:',r2_score(ytest,pred_test_sgd))\n",
    "print(\"Mean squared error of SGD Regressor:\",mean_squared_error(ytest,pred_test_sgd))\n",
    "print(\"Root Mean Square error of SGD Regressor:\",np.sqrt(mean_squared_error(ytest,pred_test_sgd)))"
   ]
  },
  {
   "cell_type": "markdown",
   "id": "01c1b983",
   "metadata": {},
   "source": [
    "The accuracy of SGD Regressor is also very poor, it's only 6%"
   ]
  },
  {
   "cell_type": "code",
   "execution_count": 26,
   "id": "0d9a40ef",
   "metadata": {},
   "outputs": [
    {
     "name": "stdout",
     "output_type": "stream",
     "text": [
      "K Neighbors Regressor Score: 0.748266387098428\n",
      "K Neighbors Regressor r2_score: 0.6042476227806619\n",
      "Mean squared error of K Neighbors Regressor: 110138818466.21764\n",
      "Root Mean Square error of K Neighbors Regressor: 331871.68976310355\n"
     ]
    }
   ],
   "source": [
    "knr = KNeighborsRegressor()\n",
    "knr.fit(xtrain,ytrain)\n",
    "pred_train_knr=knr.predict(xtrain)\n",
    "pred_test_knr=knr.predict(xtest)\n",
    "print('K Neighbors Regressor Score:',knr.score(xtrain,ytrain))\n",
    "print('K Neighbors Regressor r2_score:',r2_score(ytest,pred_test_knr))\n",
    "print(\"Mean squared error of K Neighbors Regressor:\",mean_squared_error(ytest,pred_test_knr))\n",
    "print(\"Root Mean Square error of K Neighbors Regressor:\",np.sqrt(mean_squared_error(ytest,pred_test_knr)))"
   ]
  },
  {
   "cell_type": "markdown",
   "id": "779f8283",
   "metadata": {},
   "source": [
    "The accuracy of K Neighbors Regressor is 60% which is okay."
   ]
  },
  {
   "cell_type": "code",
   "execution_count": 27,
   "id": "59ac0b90",
   "metadata": {},
   "outputs": [
    {
     "name": "stdout",
     "output_type": "stream",
     "text": [
      "Decision Tree Regressor Score: 0.9979397374843745\n",
      "Decision Tree Regressor r2_score: 0.8024097840748301\n",
      "Mean squared error of Decision Tree Regressor: 54989822361.62706\n",
      "Root Mean Square error of Decision Tree Regressor: 234499.08818932978\n"
     ]
    }
   ],
   "source": [
    "dtr=DecisionTreeRegressor(criterion='mse')\n",
    "dtr.fit(xtrain,ytrain)\n",
    "pred_train_dtr=dtr.predict(xtrain)\n",
    "pred_test_dtr=dtr.predict(xtest)\n",
    "print('Decision Tree Regressor Score:',dtr.score(xtrain,ytrain))\n",
    "print('Decision Tree Regressor r2_score:',r2_score(ytest,pred_test_dtr))\n",
    "print(\"Mean squared error of Decision Tree Regressor:\",mean_squared_error(ytest,pred_test_dtr))\n",
    "print(\"Root Mean Square error of Decision Tree Regressor:\",np.sqrt(mean_squared_error(ytest,pred_test_dtr)))"
   ]
  },
  {
   "cell_type": "markdown",
   "id": "580f6f6a",
   "metadata": {},
   "source": [
    "The accuracy of Decision Tree Regressor is 80.2 % which is in acceptable range."
   ]
  },
  {
   "cell_type": "code",
   "execution_count": 28,
   "id": "89dc6933",
   "metadata": {},
   "outputs": [
    {
     "name": "stdout",
     "output_type": "stream",
     "text": [
      "Random Forest Regressor Score: 0.9806729731863234\n",
      "Random Forest Regressor r2_score: 0.8756911676636284\n",
      "Mean squared error of Random Forest Regressor: 34595440751.717865\n",
      "Root Mean Square error of Random Forest Regressor: 185998.49663832734\n"
     ]
    }
   ],
   "source": [
    "rf=RandomForestRegressor()\n",
    "rf.fit(xtrain,ytrain)\n",
    "pred_train_rf=rf.predict(xtrain)\n",
    "pred_test_rf=rf.predict(xtest)\n",
    "print('Random Forest Regressor Score:',rf.score(xtrain,ytrain))\n",
    "print('Random Forest Regressor r2_score:',r2_score(ytest,pred_test_rf))\n",
    "print(\"Mean squared error of Random Forest Regressor:\",mean_squared_error(ytest,pred_test_rf))\n",
    "print(\"Root Mean Square error of Random Forest Regressor:\",np.sqrt(mean_squared_error(ytest,pred_test_rf)))"
   ]
  },
  {
   "cell_type": "markdown",
   "id": "1c0b1bc7",
   "metadata": {},
   "source": [
    "The accuracy of Random Forest Regressor is 87.56% which is quite good. "
   ]
  },
  {
   "cell_type": "markdown",
   "id": "fc9864ce",
   "metadata": {},
   "source": [
    "# Cross Validation Score"
   ]
  },
  {
   "cell_type": "code",
   "execution_count": 29,
   "id": "5c7fa706",
   "metadata": {},
   "outputs": [
    {
     "name": "stdout",
     "output_type": "stream",
     "text": [
      "Cross Validation Score of SVR is -6.937914977243179\n",
      "Cross Validation Score of Linear Regression is -3.979872647154277\n",
      "Cross Validation Score of SGD Regressor is -3.2940222177893275\n",
      "Cross Validation Score of KNeighbors Regressor is 41.907276781914064\n",
      "Cross Validation Score of Decision Tree Regressor is 50.91589044680409\n",
      "Cross Validation Score of Random Forest Regressor is 78.86955526024424\n"
     ]
    }
   ],
   "source": [
    "print('Cross Validation Score of SVR is',(cvs(svr,x,y,cv=5).mean())*100)\n",
    "print('Cross Validation Score of Linear Regression is',(cvs(lr,x,y,cv=5).mean())*100)\n",
    "print('Cross Validation Score of SGD Regressor is',(cvs(sgd,x,y,cv=5).mean())*100)\n",
    "print('Cross Validation Score of KNeighbors Regressor is',(cvs(knr,x,y,cv=5).mean())*100)\n",
    "print('Cross Validation Score of Decision Tree Regressor is',(cvs(dtr,x,y,cv=5).mean())*100)\n",
    "print('Cross Validation Score of Random Forest Regressor is',(cvs(rf,x,y,cv=5).mean())*100)"
   ]
  },
  {
   "cell_type": "markdown",
   "id": "0675b309",
   "metadata": {},
   "source": [
    "After comparing r2_score and Cross validation score, we will select Random Forest Regressor for Hyper Parameter Tuning."
   ]
  },
  {
   "cell_type": "markdown",
   "id": "2c8bc28c",
   "metadata": {},
   "source": [
    "# Hyper Parameter Tuning"
   ]
  },
  {
   "cell_type": "code",
   "execution_count": 30,
   "id": "756c8902",
   "metadata": {},
   "outputs": [
    {
     "data": {
      "text/plain": [
       "{'bootstrap': False,\n",
       " 'max_features': 'sqrt',\n",
       " 'min_samples_leaf': 1,\n",
       " 'min_samples_split': 2}"
      ]
     },
     "execution_count": 30,
     "metadata": {},
     "output_type": "execute_result"
    }
   ],
   "source": [
    "parameter = { 'bootstrap': [True, False],\n",
    " 'max_features': ['auto', 'sqrt'],\n",
    " 'min_samples_leaf': [1, 2, 4],\n",
    " 'min_samples_split': [2, 5, 10],}\n",
    "\n",
    "gvc = GridSearchCV(RandomForestRegressor(),parameter,cv=5)\n",
    "gvc.fit(xtrain,ytrain)\n",
    "gvc.best_params_"
   ]
  },
  {
   "cell_type": "markdown",
   "id": "340835f8",
   "metadata": {},
   "source": [
    "Getting all the best parameter to apply in our selected model."
   ]
  },
  {
   "cell_type": "code",
   "execution_count": 31,
   "id": "d3940e6a",
   "metadata": {},
   "outputs": [
    {
     "name": "stdout",
     "output_type": "stream",
     "text": [
      "Score of Hyper Parameter Tuned Random Forest Regressor is: 0.9826729731863234\n",
      "Accuracy for predicting price of car is 87.76911676636284 %\n",
      "Mean squared error of Hyper Parameter Tuned Random Forest Regressor: 34595440751.717865\n",
      "Root Mean Square error of Hyper Parameter Tuned Random Forest Regressor: 185998.49663832734\n"
     ]
    }
   ],
   "source": [
    "pricecar = RandomForestRegressor(bootstrap=False,min_samples_leaf=1,max_features='sqrt',min_samples_split=2)\n",
    "pricecar.fit(xtrain,ytrain)\n",
    "pred=pricecar.predict(xtest)\n",
    "acc=r2_score(ytest,pred)\n",
    "print('Score of Hyper Parameter Tuned Ranfom Forest Regressor is:',pricecar.score(xtrain,ytrain))\n",
    "print('Accuracy for predicting price of car is', (acc*100),'%')\n",
    "print(\"Mean squared error of Hyper Parameter Tuned Random Forest Regressor:\",mean_squared_error(ytest,pred))\n",
    "print(\"Root Mean Square error of Hyper Parameter Tuned Random Forest Regressor:\",np.sqrt(mean_squared_error(ytest,pred)))"
   ]
  },
  {
   "cell_type": "markdown",
   "id": "0e650a5b",
   "metadata": {},
   "source": [
    "The accuracy of Model 'PriceCar' (Random Forest Regressor) after applying Hyper Tuned Parameters is found to be 87.79% and the score is 0.98 which is quite good."
   ]
  },
  {
   "cell_type": "markdown",
   "id": "0b3fc924",
   "metadata": {},
   "source": [
    "# Conclusion"
   ]
  },
  {
   "cell_type": "code",
   "execution_count": 32,
   "id": "3478b0ef",
   "metadata": {},
   "outputs": [
    {
     "data": {
      "text/html": [
       "<div>\n",
       "<style scoped>\n",
       "    .dataframe tbody tr th:only-of-type {\n",
       "        vertical-align: middle;\n",
       "    }\n",
       "\n",
       "    .dataframe tbody tr th {\n",
       "        vertical-align: top;\n",
       "    }\n",
       "\n",
       "    .dataframe thead th {\n",
       "        text-align: right;\n",
       "    }\n",
       "</style>\n",
       "<table border=\"1\" class=\"dataframe\">\n",
       "  <thead>\n",
       "    <tr style=\"text-align: right;\">\n",
       "      <th></th>\n",
       "      <th>Original</th>\n",
       "      <th>Predicted</th>\n",
       "    </tr>\n",
       "  </thead>\n",
       "  <tbody>\n",
       "    <tr>\n",
       "      <th>0</th>\n",
       "      <td>675000</td>\n",
       "      <td>675000.0</td>\n",
       "    </tr>\n",
       "    <tr>\n",
       "      <th>1</th>\n",
       "      <td>619899</td>\n",
       "      <td>619899.0</td>\n",
       "    </tr>\n",
       "    <tr>\n",
       "      <th>2</th>\n",
       "      <td>528199</td>\n",
       "      <td>528199.0</td>\n",
       "    </tr>\n",
       "    <tr>\n",
       "      <th>3</th>\n",
       "      <td>380000</td>\n",
       "      <td>380000.0</td>\n",
       "    </tr>\n",
       "    <tr>\n",
       "      <th>4</th>\n",
       "      <td>303799</td>\n",
       "      <td>303799.0</td>\n",
       "    </tr>\n",
       "    <tr>\n",
       "      <th>...</th>\n",
       "      <td>...</td>\n",
       "      <td>...</td>\n",
       "    </tr>\n",
       "    <tr>\n",
       "      <th>1510</th>\n",
       "      <td>776799</td>\n",
       "      <td>776799.0</td>\n",
       "    </tr>\n",
       "    <tr>\n",
       "      <th>1511</th>\n",
       "      <td>384899</td>\n",
       "      <td>450940.0</td>\n",
       "    </tr>\n",
       "    <tr>\n",
       "      <th>1512</th>\n",
       "      <td>391599</td>\n",
       "      <td>491998.0</td>\n",
       "    </tr>\n",
       "    <tr>\n",
       "      <th>1513</th>\n",
       "      <td>502699</td>\n",
       "      <td>502699.0</td>\n",
       "    </tr>\n",
       "    <tr>\n",
       "      <th>1514</th>\n",
       "      <td>475000</td>\n",
       "      <td>475000.0</td>\n",
       "    </tr>\n",
       "  </tbody>\n",
       "</table>\n",
       "<p>1515 rows × 2 columns</p>\n",
       "</div>"
      ],
      "text/plain": [
       "      Original  Predicted\n",
       "0       675000   675000.0\n",
       "1       619899   619899.0\n",
       "2       528199   528199.0\n",
       "3       380000   380000.0\n",
       "4       303799   303799.0\n",
       "...        ...        ...\n",
       "1510    776799   776799.0\n",
       "1511    384899   450940.0\n",
       "1512    391599   491998.0\n",
       "1513    502699   502699.0\n",
       "1514    475000   475000.0\n",
       "\n",
       "[1515 rows x 2 columns]"
      ]
     },
     "execution_count": 32,
     "metadata": {},
     "output_type": "execute_result"
    }
   ],
   "source": [
    "a= np.array(ytest)\n",
    "predicted = np.array(pricecar.predict(xtest))\n",
    "Price=pd.DataFrame({\"Original\":a,\"Predicted\":predicted},index=range(len(a)))\n",
    "Price"
   ]
  },
  {
   "cell_type": "markdown",
   "id": "91a6f9cc",
   "metadata": {},
   "source": [
    "Here, we can see that all the predicted prices are either equal or nearly equal to the original prices of the car. Hence we conclude that our model 'pricecar' is working very well. And we shall save it for further use."
   ]
  },
  {
   "cell_type": "markdown",
   "id": "55ab47de",
   "metadata": {},
   "source": [
    "# Model Saving"
   ]
  },
  {
   "cell_type": "code",
   "execution_count": 33,
   "id": "0f81a2e5",
   "metadata": {},
   "outputs": [],
   "source": [
    "import pickle\n",
    "filename = 'PriceCar.pkl'\n",
    "pickle.dump(pricecar,open(filename,'wb'))"
   ]
  },
  {
   "cell_type": "markdown",
   "id": "7c461c20",
   "metadata": {},
   "source": [
    "We have saved our best model."
   ]
  }
 ],
 "metadata": {
  "kernelspec": {
   "display_name": "Python 3",
   "language": "python",
   "name": "python3"
  },
  "language_info": {
   "codemirror_mode": {
    "name": "ipython",
    "version": 3
   },
   "file_extension": ".py",
   "mimetype": "text/x-python",
   "name": "python",
   "nbconvert_exporter": "python",
   "pygments_lexer": "ipython3",
   "version": "3.8.8"
  }
 },
 "nbformat": 4,
 "nbformat_minor": 5
}
